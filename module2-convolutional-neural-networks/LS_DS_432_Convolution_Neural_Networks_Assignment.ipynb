{
  "nbformat": 4,
  "nbformat_minor": 0,
  "metadata": {
    "kernelspec": {
      "display_name": "U4-S2-NNF-DS10",
      "language": "python",
      "name": "u4-s2-nnf-ds10"
    },
    "language_info": {
      "codemirror_mode": {
        "name": "ipython",
        "version": 3
      },
      "file_extension": ".py",
      "mimetype": "text/x-python",
      "name": "python",
      "nbconvert_exporter": "python",
      "pygments_lexer": "ipython3",
      "version": "3.7.6"
    },
    "nteract": {
      "version": "0.23.1"
    },
    "colab": {
      "name": "LS_DS_432_Convolution_Neural_Networks_Assignment.ipynb",
      "provenance": [],
      "collapsed_sections": []
    },
    "accelerator": "GPU"
  },
  "cells": [
    {
      "cell_type": "markdown",
      "metadata": {
        "id": "PpOpSRv8Wiiy",
        "colab_type": "text"
      },
      "source": [
        "<img align=\"left\" src=\"https://lever-client-logos.s3.amazonaws.com/864372b1-534c-480e-acd5-9711f850815c-1524247202159.png\" width=200>\n",
        "<br></br>\n",
        "<br></br>\n",
        "\n",
        "## *Data Science Unit 4 Sprint 3 Assignment 2*\n",
        "# Convolutional Neural Networks (CNNs)"
      ]
    },
    {
      "cell_type": "markdown",
      "metadata": {
        "colab_type": "text",
        "id": "0lfZdD_cp1t5"
      },
      "source": [
        "# Assignment\n",
        "\n",
        "- <a href=\"#p1\">Part 1:</a> Pre-Trained Model\n",
        "- <a href=\"#p2\">Part 2:</a> Custom CNN Model\n",
        "- <a href=\"#p3\">Part 3:</a> CNN with Data Augmentation\n",
        "\n",
        "\n",
        "You will apply three different CNN models to a binary image classification model using Keras. Classify images of Mountains (`./data/train/mountain/*`) and images of forests (`./data/train/forest/*`). Treat mountains as the positive class (1) and the forest images as the negative (zero). \n",
        "\n",
        "|Mountain (+)|Forest (-)|\n",
        "|---|---|\n",
        "|![](https://github.com/zack-murray/DS-Unit-4-Sprint-3-Deep-Learning/blob/master/module2-convolutional-neural-networks/data/train/mountain/art1131.jpg?raw=1)|![](https://github.com/zack-murray/DS-Unit-4-Sprint-3-Deep-Learning/blob/master/module2-convolutional-neural-networks/data/validation/forest/cdmc317.jpg?raw=1)|\n",
        "\n",
        "The problem is relatively difficult given that the sample is tiny: there are about 350 observations per class. This sample size might be something that you can expect with prototyping an image classification problem/solution at work. Get accustomed to evaluating several different possible models."
      ]
    },
    {
      "cell_type": "markdown",
      "metadata": {
        "colab_type": "text",
        "id": "WfJWKsXhWii0"
      },
      "source": [
        "# Pre - Trained Model\n",
        "<a id=\"p1\"></a>\n",
        "\n",
        "Load a pretrained network from Keras, [ResNet50](https://tfhub.dev/google/imagenet/resnet_v1_50/classification/1) - a 50 layer deep network trained to recognize [1000 objects](https://storage.googleapis.com/download.tensorflow.org/data/ImageNetLabels.txt). Starting usage:\n",
        "\n",
        "```python\n",
        "import numpy as np\n",
        "\n",
        "from tensorflow.keras.applications.resnet50 import ResNet50\n",
        "from tensorflow.keras.preprocessing import image\n",
        "from tensorflow.keras.applications.resnet50 import preprocess_input, decode_predictions\n",
        "\n",
        "from tensorflow.keras.layers import Dense, GlobalAveragePooling2D\n",
        "from tensorflow.keras.models import Model # This is the functional API\n",
        "\n",
        "resnet = ResNet50(weights='imagenet', include_top=False)\n",
        "\n",
        "```\n",
        "\n",
        "The `include_top` parameter in `ResNet50` will remove the full connected layers from the ResNet model. The next step is to turn off the training of the ResNet layers. We want to use the learned parameters without updating them in future training passes. \n",
        "\n",
        "```python\n",
        "for layer in resnet.layers:\n",
        "    layer.trainable = False\n",
        "```\n",
        "\n",
        "Using the Keras functional API, we will need to additional additional full connected layers to our model. We we removed the top layers, we removed all preivous fully connected layers. In other words, we kept only the feature processing portions of our network. You can expert with additional layers beyond what's listed here. The `GlobalAveragePooling2D` layer functions as a really fancy flatten function by taking the average of each of the last convolutional layer outputs (which is two dimensional still). \n",
        "\n",
        "```python\n",
        "x = resnet.output\n",
        "x = GlobalAveragePooling2D()(x) # This layer is a really fancy flatten\n",
        "x = Dense(1024, activation='relu')(x)\n",
        "predictions = Dense(1, activation='sigmoid')(x)\n",
        "model = Model(resnet.input, predictions)\n",
        "```\n",
        "\n",
        "Your assignment is to apply the transfer learning above to classify images of Mountains (`./data/train/mountain/*`) and images of forests (`./data/train/forest/*`). Treat mountains as the positive class (1) and the forest images as the negative (zero). \n",
        "\n",
        "Steps to complete assignment: \n",
        "1. Load in Image Data into numpy arrays (`X`) \n",
        "2. Create a `y` for the labels\n",
        "3. Train your model with pre-trained layers from resnet\n",
        "4. Report your model's accuracy"
      ]
    },
    {
      "cell_type": "markdown",
      "metadata": {
        "id": "eMjvu2sbWii0",
        "colab_type": "text"
      },
      "source": [
        "## Load in Data\n",
        "\n",
        "This surprisingly more difficult than it seems, because you are working with directories of images instead of a single file. This boiler plate will help you download a zipped version of the directory of images. The directory is organized into \"train\" and \"validation\" which you can use inside an `ImageGenerator` class to stream batches of images thru your model.  \n"
      ]
    },
    {
      "cell_type": "markdown",
      "metadata": {
        "id": "m5IoCMsrWii1",
        "colab_type": "text"
      },
      "source": [
        "### Download & Summarize the Data\n",
        "\n",
        "This step is completed for you. Just run the cells and review the results. "
      ]
    },
    {
      "cell_type": "code",
      "metadata": {
        "id": "fpN9nqwFWii1",
        "colab_type": "code",
        "colab": {
          "base_uri": "https://localhost:8080/",
          "height": 51
        },
        "outputId": "262eeebe-96cd-4ec7-a818-499a8dc36a5f"
      },
      "source": [
        "import tensorflow as tf\n",
        "import os\n",
        "\n",
        "_URL = 'https://github.com/LambdaSchool/DS-Unit-4-Sprint-3-Deep-Learning/blob/master/module2-convolutional-neural-networks/data.zip?raw=true'\n",
        "\n",
        "path_to_zip = tf.keras.utils.get_file('./data.zip', origin=_URL, extract=True)\n",
        "PATH = os.path.join(os.path.dirname(path_to_zip), 'data')"
      ],
      "execution_count": 1,
      "outputs": [
        {
          "output_type": "stream",
          "text": [
            "Downloading data from https://github.com/LambdaSchool/DS-Unit-4-Sprint-3-Deep-Learning/blob/master/module2-convolutional-neural-networks/data.zip?raw=true\n",
            "42172416/42170838 [==============================] - 0s 0us/step\n"
          ],
          "name": "stdout"
        }
      ]
    },
    {
      "cell_type": "code",
      "metadata": {
        "id": "1KBRTAlOWii5",
        "colab_type": "code",
        "colab": {}
      },
      "source": [
        "train_dir = os.path.join(PATH, 'train')\n",
        "validation_dir = os.path.join(PATH, 'validation')"
      ],
      "execution_count": 2,
      "outputs": []
    },
    {
      "cell_type": "code",
      "metadata": {
        "id": "nWYuvCoVWii7",
        "colab_type": "code",
        "colab": {}
      },
      "source": [
        "train_mountain_dir = os.path.join(train_dir, 'mountain')  # directory with our training cat pictures\n",
        "train_forest_dir = os.path.join(train_dir, 'forest')  # directory with our training dog pictures\n",
        "validation_mountain_dir = os.path.join(validation_dir, 'mountain')  # directory with our validation cat pictures\n",
        "validation_forest_dir = os.path.join(validation_dir, 'forest')  # directory with our validation dog pictures"
      ],
      "execution_count": 3,
      "outputs": []
    },
    {
      "cell_type": "code",
      "metadata": {
        "id": "Dz478RGHWii-",
        "colab_type": "code",
        "colab": {}
      },
      "source": [
        "num_mountain_tr = len(os.listdir(train_mountain_dir))\n",
        "num_forest_tr = len(os.listdir(train_forest_dir))\n",
        "\n",
        "num_mountain_val = len(os.listdir(validation_mountain_dir))\n",
        "num_forest_val = len(os.listdir(validation_forest_dir))\n",
        "\n",
        "total_train = num_mountain_tr + num_forest_tr\n",
        "total_val = num_mountain_val + num_forest_val"
      ],
      "execution_count": 4,
      "outputs": []
    },
    {
      "cell_type": "code",
      "metadata": {
        "id": "VtpJSD_AWijA",
        "colab_type": "code",
        "colab": {
          "base_uri": "https://localhost:8080/",
          "height": 136
        },
        "outputId": "e67c5bbf-ed63-4cf7-bfea-5adbef03b6e2"
      },
      "source": [
        "print('total training mountain images:', num_mountain_tr)\n",
        "print('total training forest images:', num_forest_tr)\n",
        "\n",
        "print('total validation mountain images:', num_mountain_val)\n",
        "print('total validation forest images:', num_forest_val)\n",
        "print(\"--\")\n",
        "print(\"Total training images:\", total_train)\n",
        "print(\"Total validation images:\", total_val)"
      ],
      "execution_count": 5,
      "outputs": [
        {
          "output_type": "stream",
          "text": [
            "total training mountain images: 254\n",
            "total training forest images: 270\n",
            "total validation mountain images: 125\n",
            "total validation forest images: 62\n",
            "--\n",
            "Total training images: 524\n",
            "Total validation images: 187\n"
          ],
          "name": "stdout"
        }
      ]
    },
    {
      "cell_type": "markdown",
      "metadata": {
        "id": "QfsvzKVqWijC",
        "colab_type": "text"
      },
      "source": [
        "### Keras `ImageGenerator` to Process the Data\n",
        "\n",
        "This step is completed for you, but please review the code. The `ImageGenerator` class reads in batches of data from a directory and pass them to the model one batch at a time. Just like large text files, this method is advantageous, because it stifles the need to load a bunch of images into memory. \n",
        "\n",
        "Check out the documentation for this class method: [Keras `ImageGenerator` Class](https://keras.io/preprocessing/image/#imagedatagenerator-class). You'll expand it's use in the third assignment objective."
      ]
    },
    {
      "cell_type": "code",
      "metadata": {
        "id": "Qdet-RnfWijD",
        "colab_type": "code",
        "colab": {}
      },
      "source": [
        "batch_size = 16\n",
        "epochs = 50\n",
        "IMG_HEIGHT = 224\n",
        "IMG_WIDTH = 224"
      ],
      "execution_count": 6,
      "outputs": []
    },
    {
      "cell_type": "code",
      "metadata": {
        "id": "AHwCMPP_WijF",
        "colab_type": "code",
        "colab": {}
      },
      "source": [
        "from tensorflow.keras.preprocessing.image import ImageDataGenerator\n",
        "\n",
        "train_image_generator = ImageDataGenerator(rescale=1./255) # Generator for our training data\n",
        "validation_image_generator = ImageDataGenerator(rescale=1./255) # Generator for our validation data"
      ],
      "execution_count": 7,
      "outputs": []
    },
    {
      "cell_type": "code",
      "metadata": {
        "id": "1Oz5pNfPWijH",
        "colab_type": "code",
        "colab": {
          "base_uri": "https://localhost:8080/",
          "height": 34
        },
        "outputId": "bbdf3220-c455-40d7-8b8b-89d85f0509f1"
      },
      "source": [
        "train_data_gen = train_image_generator.flow_from_directory(batch_size=batch_size,\n",
        "                                                           directory=train_dir,\n",
        "                                                           shuffle=True,\n",
        "                                                           target_size=(IMG_HEIGHT, IMG_WIDTH),\n",
        "                                                           class_mode='binary')"
      ],
      "execution_count": 8,
      "outputs": [
        {
          "output_type": "stream",
          "text": [
            "Found 533 images belonging to 2 classes.\n"
          ],
          "name": "stdout"
        }
      ]
    },
    {
      "cell_type": "code",
      "metadata": {
        "id": "q0Lzf6PmWijJ",
        "colab_type": "code",
        "colab": {
          "base_uri": "https://localhost:8080/",
          "height": 34
        },
        "outputId": "abe059c4-524f-461c-9243-cd84c1865dc4"
      },
      "source": [
        "val_data_gen = validation_image_generator.flow_from_directory(batch_size=batch_size,\n",
        "                                                              directory=validation_dir,\n",
        "                                                              target_size=(IMG_HEIGHT, IMG_WIDTH),\n",
        "                                                              class_mode='binary')"
      ],
      "execution_count": 9,
      "outputs": [
        {
          "output_type": "stream",
          "text": [
            "Found 195 images belonging to 2 classes.\n"
          ],
          "name": "stdout"
        }
      ]
    },
    {
      "cell_type": "markdown",
      "metadata": {
        "id": "eoLmmtNSWijL",
        "colab_type": "text"
      },
      "source": [
        "## Instatiate Model"
      ]
    },
    {
      "cell_type": "code",
      "metadata": {
        "id": "x5b5MmN5WijL",
        "colab_type": "code",
        "colab": {
          "base_uri": "https://localhost:8080/",
          "height": 51
        },
        "outputId": "3697b873-6b7c-4e2e-9d2c-65b921614a64"
      },
      "source": [
        "import numpy as np\n",
        "\n",
        "from tensorflow.keras.applications.resnet50 import ResNet50\n",
        "from tensorflow.keras.preprocessing import image\n",
        "from tensorflow.keras.applications.resnet50 import preprocess_input, decode_predictions\n",
        "\n",
        "from tensorflow.keras.layers import Dense, GlobalAveragePooling2D\n",
        "from tensorflow.keras.models import Model # This is the functional API\n",
        "\n",
        "resnet = ResNet50(weights='imagenet', include_top=False)\n",
        "\n",
        "for layer in resnet.layers:\n",
        "    layer.trainable = False\n",
        "    \n",
        "x = resnet.output\n",
        "x = GlobalAveragePooling2D()(x) # This layer is a really fancy flatten\n",
        "x = Dense(1024, activation='relu')(x)\n",
        "predictions = Dense(1, activation='sigmoid')(x)\n",
        "model = Model(resnet.input, predictions)\n",
        "\n",
        "# Compile the model\n",
        "model.compile(optimizer='adam',\n",
        "              loss='binary_crossentropy',\n",
        "              metrics=['accuracy'])"
      ],
      "execution_count": 10,
      "outputs": [
        {
          "output_type": "stream",
          "text": [
            "Downloading data from https://storage.googleapis.com/tensorflow/keras-applications/resnet/resnet50_weights_tf_dim_ordering_tf_kernels_notop.h5\n",
            "94773248/94765736 [==============================] - 2s 0us/step\n"
          ],
          "name": "stdout"
        }
      ]
    },
    {
      "cell_type": "markdown",
      "metadata": {
        "id": "bCO96wjWWijO",
        "colab_type": "text"
      },
      "source": [
        "## Fit Model"
      ]
    },
    {
      "cell_type": "code",
      "metadata": {
        "id": "Ybirp9LXWijO",
        "colab_type": "code",
        "colab": {
          "base_uri": "https://localhost:8080/",
          "height": 1000
        },
        "outputId": "f0298ca7-ddde-47ce-f89e-f893d7b5af7b"
      },
      "source": [
        "history = model.fit(\n",
        "    train_data_gen,\n",
        "    steps_per_epoch=total_train // batch_size,\n",
        "    epochs=epochs,\n",
        "    validation_data=val_data_gen,\n",
        "    validation_steps=total_val // batch_size\n",
        ")"
      ],
      "execution_count": 11,
      "outputs": [
        {
          "output_type": "stream",
          "text": [
            "Epoch 1/50\n",
            "32/32 [==============================] - 4s 116ms/step - loss: 0.7828 - accuracy: 0.5788 - val_loss: 0.6597 - val_accuracy: 0.5739\n",
            "Epoch 2/50\n",
            "32/32 [==============================] - 3s 78ms/step - loss: 0.5930 - accuracy: 0.7186 - val_loss: 0.5226 - val_accuracy: 0.7784\n",
            "Epoch 3/50\n",
            "32/32 [==============================] - 3s 81ms/step - loss: 0.5051 - accuracy: 0.7884 - val_loss: 0.5208 - val_accuracy: 0.8011\n",
            "Epoch 4/50\n",
            "32/32 [==============================] - 3s 85ms/step - loss: 0.4548 - accuracy: 0.8403 - val_loss: 0.4220 - val_accuracy: 0.8352\n",
            "Epoch 5/50\n",
            "32/32 [==============================] - 3s 81ms/step - loss: 0.4296 - accuracy: 0.8343 - val_loss: 0.3894 - val_accuracy: 0.8466\n",
            "Epoch 6/50\n",
            "32/32 [==============================] - 3s 80ms/step - loss: 0.4976 - accuracy: 0.7385 - val_loss: 0.5127 - val_accuracy: 0.7500\n",
            "Epoch 7/50\n",
            "32/32 [==============================] - 3s 80ms/step - loss: 0.4530 - accuracy: 0.7685 - val_loss: 0.5115 - val_accuracy: 0.6932\n",
            "Epoch 8/50\n",
            "32/32 [==============================] - 3s 81ms/step - loss: 0.4254 - accuracy: 0.7812 - val_loss: 0.5452 - val_accuracy: 0.6875\n",
            "Epoch 9/50\n",
            "32/32 [==============================] - 3s 79ms/step - loss: 0.4358 - accuracy: 0.7725 - val_loss: 0.4305 - val_accuracy: 0.7443\n",
            "Epoch 10/50\n",
            "32/32 [==============================] - 3s 80ms/step - loss: 0.3260 - accuracy: 0.8643 - val_loss: 0.5636 - val_accuracy: 0.7330\n",
            "Epoch 11/50\n",
            "32/32 [==============================] - 2s 78ms/step - loss: 0.3108 - accuracy: 0.8862 - val_loss: 0.5308 - val_accuracy: 0.7386\n",
            "Epoch 12/50\n",
            "32/32 [==============================] - 3s 78ms/step - loss: 0.2746 - accuracy: 0.8962 - val_loss: 0.5124 - val_accuracy: 0.7727\n",
            "Epoch 13/50\n",
            "32/32 [==============================] - 3s 78ms/step - loss: 0.2492 - accuracy: 0.9062 - val_loss: 0.3059 - val_accuracy: 0.8693\n",
            "Epoch 14/50\n",
            "32/32 [==============================] - 3s 80ms/step - loss: 0.2972 - accuracy: 0.8802 - val_loss: 0.3641 - val_accuracy: 0.8523\n",
            "Epoch 15/50\n",
            "32/32 [==============================] - 3s 79ms/step - loss: 0.2323 - accuracy: 0.9242 - val_loss: 0.4834 - val_accuracy: 0.8068\n",
            "Epoch 16/50\n",
            "32/32 [==============================] - 3s 79ms/step - loss: 0.2431 - accuracy: 0.9082 - val_loss: 0.2767 - val_accuracy: 0.9205\n",
            "Epoch 17/50\n",
            "32/32 [==============================] - 3s 79ms/step - loss: 0.2522 - accuracy: 0.9022 - val_loss: 0.2469 - val_accuracy: 0.9261\n",
            "Epoch 18/50\n",
            "32/32 [==============================] - 3s 79ms/step - loss: 0.2287 - accuracy: 0.9162 - val_loss: 0.2341 - val_accuracy: 0.9205\n",
            "Epoch 19/50\n",
            "32/32 [==============================] - 3s 79ms/step - loss: 0.2022 - accuracy: 0.9261 - val_loss: 0.4091 - val_accuracy: 0.8523\n",
            "Epoch 20/50\n",
            "32/32 [==============================] - 3s 81ms/step - loss: 0.2285 - accuracy: 0.9042 - val_loss: 0.3869 - val_accuracy: 0.8466\n",
            "Epoch 21/50\n",
            "32/32 [==============================] - 3s 80ms/step - loss: 0.1971 - accuracy: 0.9321 - val_loss: 0.2590 - val_accuracy: 0.9034\n",
            "Epoch 22/50\n",
            "32/32 [==============================] - 3s 80ms/step - loss: 0.1877 - accuracy: 0.9321 - val_loss: 0.2326 - val_accuracy: 0.9148\n",
            "Epoch 23/50\n",
            "32/32 [==============================] - 3s 79ms/step - loss: 0.1725 - accuracy: 0.9321 - val_loss: 0.4533 - val_accuracy: 0.8239\n",
            "Epoch 24/50\n",
            "32/32 [==============================] - 3s 80ms/step - loss: 0.1709 - accuracy: 0.9421 - val_loss: 0.2647 - val_accuracy: 0.8864\n",
            "Epoch 25/50\n",
            "32/32 [==============================] - 3s 81ms/step - loss: 0.1515 - accuracy: 0.9581 - val_loss: 0.2153 - val_accuracy: 0.9375\n",
            "Epoch 26/50\n",
            "32/32 [==============================] - 3s 79ms/step - loss: 0.1389 - accuracy: 0.9521 - val_loss: 0.4481 - val_accuracy: 0.8295\n",
            "Epoch 27/50\n",
            "32/32 [==============================] - 3s 79ms/step - loss: 0.1960 - accuracy: 0.9162 - val_loss: 0.2449 - val_accuracy: 0.8977\n",
            "Epoch 28/50\n",
            "32/32 [==============================] - 3s 79ms/step - loss: 0.1537 - accuracy: 0.9361 - val_loss: 0.2375 - val_accuracy: 0.8977\n",
            "Epoch 29/50\n",
            "32/32 [==============================] - 3s 79ms/step - loss: 0.1850 - accuracy: 0.9281 - val_loss: 0.4152 - val_accuracy: 0.7955\n",
            "Epoch 30/50\n",
            "32/32 [==============================] - 3s 78ms/step - loss: 0.1971 - accuracy: 0.9102 - val_loss: 0.2109 - val_accuracy: 0.9318\n",
            "Epoch 31/50\n",
            "32/32 [==============================] - 3s 79ms/step - loss: 0.1635 - accuracy: 0.9222 - val_loss: 0.2189 - val_accuracy: 0.9375\n",
            "Epoch 32/50\n",
            "32/32 [==============================] - 2s 78ms/step - loss: 0.1364 - accuracy: 0.9501 - val_loss: 0.3946 - val_accuracy: 0.8409\n",
            "Epoch 33/50\n",
            "32/32 [==============================] - 3s 79ms/step - loss: 0.1254 - accuracy: 0.9581 - val_loss: 0.2189 - val_accuracy: 0.9148\n",
            "Epoch 34/50\n",
            "32/32 [==============================] - 3s 79ms/step - loss: 0.1195 - accuracy: 0.9601 - val_loss: 0.3683 - val_accuracy: 0.8580\n",
            "Epoch 35/50\n",
            "32/32 [==============================] - 3s 79ms/step - loss: 0.1546 - accuracy: 0.9461 - val_loss: 0.1944 - val_accuracy: 0.9432\n",
            "Epoch 36/50\n",
            "32/32 [==============================] - 2s 78ms/step - loss: 0.1247 - accuracy: 0.9541 - val_loss: 0.5018 - val_accuracy: 0.8182\n",
            "Epoch 37/50\n",
            "32/32 [==============================] - 3s 78ms/step - loss: 0.1340 - accuracy: 0.9441 - val_loss: 0.2004 - val_accuracy: 0.9318\n",
            "Epoch 38/50\n",
            "32/32 [==============================] - 3s 80ms/step - loss: 0.0911 - accuracy: 0.9780 - val_loss: 0.2823 - val_accuracy: 0.8920\n",
            "Epoch 39/50\n",
            "32/32 [==============================] - 3s 78ms/step - loss: 0.0910 - accuracy: 0.9601 - val_loss: 0.3188 - val_accuracy: 0.8636\n",
            "Epoch 40/50\n",
            "32/32 [==============================] - 3s 79ms/step - loss: 0.0940 - accuracy: 0.9766 - val_loss: 0.4106 - val_accuracy: 0.8352\n",
            "Epoch 41/50\n",
            "32/32 [==============================] - 3s 79ms/step - loss: 0.1475 - accuracy: 0.9481 - val_loss: 0.2552 - val_accuracy: 0.9091\n",
            "Epoch 42/50\n",
            "32/32 [==============================] - 2s 78ms/step - loss: 0.1105 - accuracy: 0.9641 - val_loss: 0.1839 - val_accuracy: 0.9375\n",
            "Epoch 43/50\n",
            "32/32 [==============================] - 3s 78ms/step - loss: 0.1639 - accuracy: 0.9341 - val_loss: 0.4948 - val_accuracy: 0.8239\n",
            "Epoch 44/50\n",
            "32/32 [==============================] - 2s 78ms/step - loss: 0.1170 - accuracy: 0.9441 - val_loss: 0.1871 - val_accuracy: 0.9375\n",
            "Epoch 45/50\n",
            "32/32 [==============================] - 3s 78ms/step - loss: 0.0808 - accuracy: 0.9701 - val_loss: 0.2281 - val_accuracy: 0.9261\n",
            "Epoch 46/50\n",
            "32/32 [==============================] - 2s 78ms/step - loss: 0.1144 - accuracy: 0.9561 - val_loss: 0.2317 - val_accuracy: 0.8977\n",
            "Epoch 47/50\n",
            "32/32 [==============================] - 3s 79ms/step - loss: 0.1223 - accuracy: 0.9541 - val_loss: 0.2036 - val_accuracy: 0.9375\n",
            "Epoch 48/50\n",
            "32/32 [==============================] - 3s 78ms/step - loss: 0.0866 - accuracy: 0.9701 - val_loss: 0.3360 - val_accuracy: 0.8580\n",
            "Epoch 49/50\n",
            "32/32 [==============================] - 2s 78ms/step - loss: 0.0804 - accuracy: 0.9701 - val_loss: 0.5205 - val_accuracy: 0.8125\n",
            "Epoch 50/50\n",
            "32/32 [==============================] - 2s 78ms/step - loss: 0.1740 - accuracy: 0.9261 - val_loss: 0.4098 - val_accuracy: 0.8352\n"
          ],
          "name": "stdout"
        }
      ]
    },
    {
      "cell_type": "markdown",
      "metadata": {
        "id": "OxyufMeqWijQ",
        "colab_type": "text"
      },
      "source": [
        "# Custom CNN Model\n",
        "\n",
        "In this step, write and train your own convolutional neural network using Keras. You can use any architecture that suits you as long as it has at least one convolutional and one pooling layer at the beginning of the network - you can add more if you want. "
      ]
    },
    {
      "cell_type": "code",
      "metadata": {
        "id": "Tfa9UB0mWijQ",
        "colab_type": "code",
        "colab": {
          "base_uri": "https://localhost:8080/",
          "height": 493
        },
        "outputId": "f9090a24-7144-4746-d43a-0700c3d48bdc"
      },
      "source": [
        "from tensorflow.keras.models import Sequential, Model\n",
        "from tensorflow.keras.layers import Dense, Dropout, Conv2D, MaxPooling2D, Flatten\n",
        "\n",
        "# Define the Model\n",
        "model2 = Sequential()\n",
        "model2.add(Conv2D(32, (3,3), activation='relu', input_shape=(224,224,3)))\n",
        "model2.add(MaxPooling2D((2,2)))\n",
        "model2.add(Conv2D(64, (3,3), activation='relu'))\n",
        "model2.add(MaxPooling2D((2,2)))\n",
        "model2.add(Conv2D(64, (1,1), activation='relu'))\n",
        "model2.add(Dropout(0.25))\n",
        "model2.add(Flatten())\n",
        "model2.add(Dense(64, activation='relu'))\n",
        "model2.add(Dropout(0.5))\n",
        "model2.add(Dense(1, activation='sigmoid'))\n",
        "\n",
        "model2.summary()"
      ],
      "execution_count": 12,
      "outputs": [
        {
          "output_type": "stream",
          "text": [
            "Model: \"sequential\"\n",
            "_________________________________________________________________\n",
            "Layer (type)                 Output Shape              Param #   \n",
            "=================================================================\n",
            "conv2d (Conv2D)              (None, 222, 222, 32)      896       \n",
            "_________________________________________________________________\n",
            "max_pooling2d (MaxPooling2D) (None, 111, 111, 32)      0         \n",
            "_________________________________________________________________\n",
            "conv2d_1 (Conv2D)            (None, 109, 109, 64)      18496     \n",
            "_________________________________________________________________\n",
            "max_pooling2d_1 (MaxPooling2 (None, 54, 54, 64)        0         \n",
            "_________________________________________________________________\n",
            "conv2d_2 (Conv2D)            (None, 54, 54, 64)        4160      \n",
            "_________________________________________________________________\n",
            "dropout (Dropout)            (None, 54, 54, 64)        0         \n",
            "_________________________________________________________________\n",
            "flatten (Flatten)            (None, 186624)            0         \n",
            "_________________________________________________________________\n",
            "dense_2 (Dense)              (None, 64)                11944000  \n",
            "_________________________________________________________________\n",
            "dropout_1 (Dropout)          (None, 64)                0         \n",
            "_________________________________________________________________\n",
            "dense_3 (Dense)              (None, 1)                 65        \n",
            "=================================================================\n",
            "Total params: 11,967,617\n",
            "Trainable params: 11,967,617\n",
            "Non-trainable params: 0\n",
            "_________________________________________________________________\n"
          ],
          "name": "stdout"
        }
      ]
    },
    {
      "cell_type": "code",
      "metadata": {
        "id": "jrYBURtwWijS",
        "colab_type": "code",
        "colab": {}
      },
      "source": [
        "# Compile the model\n",
        "model2.compile(optimizer='adam',\n",
        "              loss='binary_crossentropy',\n",
        "              metrics=['accuracy'])"
      ],
      "execution_count": 13,
      "outputs": []
    },
    {
      "cell_type": "code",
      "metadata": {
        "id": "yH6OqXHuWijU",
        "colab_type": "code",
        "colab": {
          "base_uri": "https://localhost:8080/",
          "height": 1000
        },
        "outputId": "3dcbe4b3-1167-4931-863c-90d9f2a313a8"
      },
      "source": [
        "# Fit Model\n",
        "history2 = model.fit(\n",
        "    train_data_gen,\n",
        "    steps_per_epoch=total_train // batch_size,\n",
        "    epochs=epochs,\n",
        "    validation_data=val_data_gen,\n",
        "    validation_steps=total_val // batch_size\n",
        ")"
      ],
      "execution_count": 14,
      "outputs": [
        {
          "output_type": "stream",
          "text": [
            "Epoch 1/50\n",
            "32/32 [==============================] - 3s 79ms/step - loss: 0.1161 - accuracy: 0.9421 - val_loss: 0.1968 - val_accuracy: 0.9375\n",
            "Epoch 2/50\n",
            "32/32 [==============================] - 3s 80ms/step - loss: 0.0678 - accuracy: 0.9820 - val_loss: 0.1944 - val_accuracy: 0.9375\n",
            "Epoch 3/50\n",
            "32/32 [==============================] - 2s 78ms/step - loss: 0.0888 - accuracy: 0.9661 - val_loss: 0.1680 - val_accuracy: 0.9375\n",
            "Epoch 4/50\n",
            "32/32 [==============================] - 3s 79ms/step - loss: 0.0772 - accuracy: 0.9641 - val_loss: 0.2405 - val_accuracy: 0.9261\n",
            "Epoch 5/50\n",
            "32/32 [==============================] - 3s 79ms/step - loss: 0.0617 - accuracy: 0.9701 - val_loss: 0.4961 - val_accuracy: 0.8182\n",
            "Epoch 6/50\n",
            "32/32 [==============================] - 3s 79ms/step - loss: 0.0803 - accuracy: 0.9701 - val_loss: 0.3151 - val_accuracy: 0.8977\n",
            "Epoch 7/50\n",
            "32/32 [==============================] - 3s 78ms/step - loss: 0.0864 - accuracy: 0.9641 - val_loss: 0.4737 - val_accuracy: 0.8239\n",
            "Epoch 8/50\n",
            "32/32 [==============================] - 3s 79ms/step - loss: 0.0589 - accuracy: 0.9840 - val_loss: 0.2239 - val_accuracy: 0.9432\n",
            "Epoch 9/50\n",
            "32/32 [==============================] - 3s 81ms/step - loss: 0.0660 - accuracy: 0.9741 - val_loss: 0.2931 - val_accuracy: 0.8977\n",
            "Epoch 10/50\n",
            "32/32 [==============================] - 3s 79ms/step - loss: 0.0619 - accuracy: 0.9780 - val_loss: 0.1927 - val_accuracy: 0.9432\n",
            "Epoch 11/50\n",
            "32/32 [==============================] - 2s 78ms/step - loss: 0.0655 - accuracy: 0.9741 - val_loss: 0.3540 - val_accuracy: 0.8693\n",
            "Epoch 12/50\n",
            "32/32 [==============================] - 3s 78ms/step - loss: 0.0888 - accuracy: 0.9641 - val_loss: 0.1972 - val_accuracy: 0.9375\n",
            "Epoch 13/50\n",
            "32/32 [==============================] - 3s 81ms/step - loss: 0.1020 - accuracy: 0.9561 - val_loss: 0.1924 - val_accuracy: 0.9432\n",
            "Epoch 14/50\n",
            "32/32 [==============================] - 3s 79ms/step - loss: 0.0648 - accuracy: 0.9701 - val_loss: 0.4428 - val_accuracy: 0.8466\n",
            "Epoch 15/50\n",
            "32/32 [==============================] - 2s 78ms/step - loss: 0.0736 - accuracy: 0.9641 - val_loss: 0.2350 - val_accuracy: 0.9261\n",
            "Epoch 16/50\n",
            "32/32 [==============================] - 3s 79ms/step - loss: 0.0636 - accuracy: 0.9800 - val_loss: 0.4105 - val_accuracy: 0.8523\n",
            "Epoch 17/50\n",
            "32/32 [==============================] - 3s 78ms/step - loss: 0.0663 - accuracy: 0.9780 - val_loss: 0.6322 - val_accuracy: 0.8239\n",
            "Epoch 18/50\n",
            "32/32 [==============================] - 3s 79ms/step - loss: 0.0664 - accuracy: 0.9780 - val_loss: 0.4379 - val_accuracy: 0.8580\n",
            "Epoch 19/50\n",
            "32/32 [==============================] - 3s 79ms/step - loss: 0.0815 - accuracy: 0.9641 - val_loss: 0.1972 - val_accuracy: 0.9261\n",
            "Epoch 20/50\n",
            "32/32 [==============================] - 3s 79ms/step - loss: 0.0385 - accuracy: 0.9900 - val_loss: 0.3489 - val_accuracy: 0.8920\n",
            "Epoch 21/50\n",
            "32/32 [==============================] - 3s 83ms/step - loss: 0.0805 - accuracy: 0.9648 - val_loss: 0.1966 - val_accuracy: 0.9489\n",
            "Epoch 22/50\n",
            "32/32 [==============================] - 3s 78ms/step - loss: 0.0615 - accuracy: 0.9840 - val_loss: 0.2026 - val_accuracy: 0.9432\n",
            "Epoch 23/50\n",
            "32/32 [==============================] - 2s 78ms/step - loss: 0.0465 - accuracy: 0.9840 - val_loss: 0.3818 - val_accuracy: 0.8864\n",
            "Epoch 24/50\n",
            "32/32 [==============================] - 2s 78ms/step - loss: 0.0651 - accuracy: 0.9760 - val_loss: 0.9378 - val_accuracy: 0.7386\n",
            "Epoch 25/50\n",
            "32/32 [==============================] - 2s 78ms/step - loss: 0.0773 - accuracy: 0.9721 - val_loss: 0.1735 - val_accuracy: 0.9545\n",
            "Epoch 26/50\n",
            "32/32 [==============================] - 3s 78ms/step - loss: 0.0662 - accuracy: 0.9721 - val_loss: 0.5050 - val_accuracy: 0.8409\n",
            "Epoch 27/50\n",
            "32/32 [==============================] - 3s 78ms/step - loss: 0.0961 - accuracy: 0.9501 - val_loss: 0.2749 - val_accuracy: 0.9205\n",
            "Epoch 28/50\n",
            "32/32 [==============================] - 2s 78ms/step - loss: 0.0825 - accuracy: 0.9621 - val_loss: 0.4643 - val_accuracy: 0.8523\n",
            "Epoch 29/50\n",
            "32/32 [==============================] - 2s 77ms/step - loss: 0.0445 - accuracy: 0.9840 - val_loss: 0.2146 - val_accuracy: 0.9205\n",
            "Epoch 30/50\n",
            "32/32 [==============================] - 2s 78ms/step - loss: 0.0487 - accuracy: 0.9800 - val_loss: 0.2201 - val_accuracy: 0.9432\n",
            "Epoch 31/50\n",
            "32/32 [==============================] - 3s 79ms/step - loss: 0.0542 - accuracy: 0.9840 - val_loss: 0.1968 - val_accuracy: 0.9148\n",
            "Epoch 32/50\n",
            "32/32 [==============================] - 2s 78ms/step - loss: 0.0418 - accuracy: 0.9880 - val_loss: 0.5328 - val_accuracy: 0.8466\n",
            "Epoch 33/50\n",
            "32/32 [==============================] - 2s 78ms/step - loss: 0.1349 - accuracy: 0.9401 - val_loss: 0.2671 - val_accuracy: 0.9148\n",
            "Epoch 34/50\n",
            "32/32 [==============================] - 3s 78ms/step - loss: 0.0400 - accuracy: 0.9880 - val_loss: 0.2188 - val_accuracy: 0.9318\n",
            "Epoch 35/50\n",
            "32/32 [==============================] - 3s 79ms/step - loss: 0.0395 - accuracy: 0.9840 - val_loss: 0.3790 - val_accuracy: 0.8920\n",
            "Epoch 36/50\n",
            "32/32 [==============================] - 3s 79ms/step - loss: 0.0876 - accuracy: 0.9661 - val_loss: 0.3473 - val_accuracy: 0.8977\n",
            "Epoch 37/50\n",
            "32/32 [==============================] - 3s 79ms/step - loss: 0.0330 - accuracy: 0.9900 - val_loss: 0.2385 - val_accuracy: 0.9432\n",
            "Epoch 38/50\n",
            "32/32 [==============================] - 2s 78ms/step - loss: 0.0258 - accuracy: 0.9920 - val_loss: 0.2411 - val_accuracy: 0.9318\n",
            "Epoch 39/50\n",
            "32/32 [==============================] - 2s 78ms/step - loss: 0.0343 - accuracy: 0.9880 - val_loss: 0.2633 - val_accuracy: 0.9205\n",
            "Epoch 40/50\n",
            "32/32 [==============================] - 3s 79ms/step - loss: 0.0526 - accuracy: 0.9820 - val_loss: 0.2382 - val_accuracy: 0.9432\n",
            "Epoch 41/50\n",
            "32/32 [==============================] - 3s 78ms/step - loss: 0.0383 - accuracy: 0.9880 - val_loss: 0.2097 - val_accuracy: 0.9375\n",
            "Epoch 42/50\n",
            "32/32 [==============================] - 3s 78ms/step - loss: 0.0328 - accuracy: 0.9920 - val_loss: 0.3859 - val_accuracy: 0.8864\n",
            "Epoch 43/50\n",
            "32/32 [==============================] - 3s 78ms/step - loss: 0.0274 - accuracy: 0.9883 - val_loss: 0.5460 - val_accuracy: 0.8409\n",
            "Epoch 44/50\n",
            "32/32 [==============================] - 3s 79ms/step - loss: 0.0282 - accuracy: 0.9920 - val_loss: 0.3087 - val_accuracy: 0.9148\n",
            "Epoch 45/50\n",
            "32/32 [==============================] - 3s 79ms/step - loss: 0.0822 - accuracy: 0.9581 - val_loss: 0.3803 - val_accuracy: 0.8920\n",
            "Epoch 46/50\n",
            "32/32 [==============================] - 3s 78ms/step - loss: 0.0461 - accuracy: 0.9840 - val_loss: 0.2021 - val_accuracy: 0.9205\n",
            "Epoch 47/50\n",
            "32/32 [==============================] - 3s 78ms/step - loss: 0.0669 - accuracy: 0.9760 - val_loss: 0.2355 - val_accuracy: 0.9432\n",
            "Epoch 48/50\n",
            "32/32 [==============================] - 3s 80ms/step - loss: 0.0303 - accuracy: 0.9900 - val_loss: 0.4213 - val_accuracy: 0.8920\n",
            "Epoch 49/50\n",
            "32/32 [==============================] - 3s 79ms/step - loss: 0.0325 - accuracy: 0.9920 - val_loss: 0.2660 - val_accuracy: 0.9318\n",
            "Epoch 50/50\n",
            "32/32 [==============================] - 3s 79ms/step - loss: 0.0370 - accuracy: 0.9880 - val_loss: 0.2139 - val_accuracy: 0.9489\n"
          ],
          "name": "stdout"
        }
      ]
    },
    {
      "cell_type": "markdown",
      "metadata": {
        "id": "WZFTpNj2WijW",
        "colab_type": "text"
      },
      "source": [
        "# Custom CNN Model with Image Manipulations\n",
        "\n",
        "To simulate an increase in a sample of image, you can apply image manipulation techniques: cropping, rotation, stretching, etc. Luckily Keras has some handy functions for us to apply these techniques to our mountain and forest example. Simply, you should be able to modify our image generator for the problem. Check out these resources to help you get started: \n",
        "\n",
        "1. [Keras `ImageGenerator` Class](https://keras.io/preprocessing/image/#imagedatagenerator-class)\n",
        "2. [Building a powerful image classifier with very little data](https://blog.keras.io/building-powerful-image-classification-models-using-very-little-data.html)\n",
        " "
      ]
    },
    {
      "cell_type": "code",
      "metadata": {
        "id": "pa04FsxLWijW",
        "colab_type": "code",
        "colab": {
          "base_uri": "https://localhost:8080/",
          "height": 289
        },
        "outputId": "dfa5aa95-0baf-48c1-bcbf-5ae336cca72c"
      },
      "source": [
        "from tensorflow.keras.callbacks import EarlyStopping\n",
        "\n",
        "train_image_generator = ImageDataGenerator(\n",
        "    rotation_range=40,\n",
        "    width_shift_range=0.2,\n",
        "    height_shift_range=0.2,\n",
        "    rescale=1./255,\n",
        "    shear_range=0.2,\n",
        "    zoom_range=0.2,\n",
        "    horizontal_flip=True,\n",
        "    fill_mode='nearest'\n",
        ")\n",
        "validation_image_generator = ImageDataGenerator(\n",
        "    rotation_range=40,\n",
        "    width_shift_range=0.2,\n",
        "    height_shift_range=0.2,\n",
        "    rescale=1./255,\n",
        "    shear_range=0.2,\n",
        "    zoom_range=0.2,\n",
        "    horizontal_flip=True,\n",
        "    fill_mode='nearest'\n",
        ")\n",
        "train_data_gen = train_image_generator.flow_from_directory(batch_size=batch_size,\n",
        "                                                           directory=train_dir,\n",
        "                                                           shuffle=True,\n",
        "                                                           target_size=(IMG_HEIGHT, IMG_WIDTH),\n",
        "                                                           class_mode='binary')\n",
        "val_data_gen = validation_image_generator.flow_from_directory(batch_size=batch_size,\n",
        "                                                              directory=validation_dir,\n",
        "                                                              target_size=(IMG_HEIGHT, IMG_WIDTH),\n",
        "                                                              class_mode='binary')\n",
        "\n",
        "stop = EarlyStopping(monitor='val_accuracy', min_delta=0.000001, patience=3)\n",
        "\n",
        "# Define the Model\n",
        "model3 = Sequential()\n",
        "model3.add(Conv2D(32, (3,3), activation='relu', input_shape=(224,224,3)))\n",
        "model3.add(MaxPooling2D((2,2)))\n",
        "model3.add(Conv2D(64, (3,3), activation='relu'))\n",
        "model3.add(MaxPooling2D((2,2)))\n",
        "model3.add(Conv2D(64, (1,1), activation='relu'))\n",
        "model3.add(Dropout(0.25))\n",
        "model3.add(Flatten())\n",
        "model3.add(Dense(64, activation='relu'))\n",
        "model3.add(Dropout(0.5))\n",
        "model3.add(Dense(1, activation='sigmoid'))\n",
        "\n",
        "model3.compile(optimizer='adam',loss='binary_crossentropy',metrics=['accuracy'])\n",
        "\n",
        "history3 = model3.fit(\n",
        "    train_data_gen,\n",
        "    steps_per_epoch=total_train // batch_size,\n",
        "    epochs=epochs,\n",
        "    validation_data=val_data_gen,\n",
        "    validation_steps=total_val // batch_size,\n",
        "    callbacks=[stop]\n",
        ")"
      ],
      "execution_count": 15,
      "outputs": [
        {
          "output_type": "stream",
          "text": [
            "Found 533 images belonging to 2 classes.\n",
            "Found 195 images belonging to 2 classes.\n",
            "Epoch 1/50\n",
            "32/32 [==============================] - 8s 253ms/step - loss: 0.8511 - accuracy: 0.7365 - val_loss: 0.6271 - val_accuracy: 0.7386\n",
            "Epoch 2/50\n",
            "32/32 [==============================] - 8s 255ms/step - loss: 0.3402 - accuracy: 0.8383 - val_loss: 0.2129 - val_accuracy: 0.8920\n",
            "Epoch 3/50\n",
            "32/32 [==============================] - 8s 253ms/step - loss: 0.2489 - accuracy: 0.9082 - val_loss: 0.2136 - val_accuracy: 0.9034\n",
            "Epoch 4/50\n",
            "32/32 [==============================] - 8s 254ms/step - loss: 0.2938 - accuracy: 0.8942 - val_loss: 0.2073 - val_accuracy: 0.9205\n",
            "Epoch 5/50\n",
            "32/32 [==============================] - 8s 254ms/step - loss: 0.3006 - accuracy: 0.8984 - val_loss: 0.3271 - val_accuracy: 0.8068\n",
            "Epoch 6/50\n",
            "32/32 [==============================] - 8s 254ms/step - loss: 0.2670 - accuracy: 0.8882 - val_loss: 0.2735 - val_accuracy: 0.8580\n",
            "Epoch 7/50\n",
            "32/32 [==============================] - 8s 255ms/step - loss: 0.1965 - accuracy: 0.9162 - val_loss: 0.2228 - val_accuracy: 0.9205\n"
          ],
          "name": "stdout"
        }
      ]
    },
    {
      "cell_type": "markdown",
      "metadata": {
        "colab_type": "text",
        "id": "uT3UV3gap9H6"
      },
      "source": [
        "# Resources and Stretch Goals\n",
        "\n",
        "Stretch goals\n",
        "- Enhance your code to use classes/functions and accept terms to search and classes to look for in recognizing the downloaded images (e.g. download images of parties, recognize all that contain balloons)\n",
        "- Check out [other available pretrained networks](https://tfhub.dev), try some and compare\n",
        "- Image recognition/classification is somewhat solved, but *relationships* between entities and describing an image is not - check out some of the extended resources (e.g. [Visual Genome](https://visualgenome.org/)) on the topic\n",
        "- Transfer learning - using images you source yourself, [retrain a classifier](https://www.tensorflow.org/hub/tutorials/image_retraining) with a new category\n",
        "- (Not CNN related) Use [piexif](https://pypi.org/project/piexif/) to check out the metadata of images passed in to your system - see if they're from a national park! (Note - many images lack GPS metadata, so this won't work in most cases, but still cool)\n",
        "\n",
        "Resources\n",
        "- [Deep Residual Learning for Image Recognition](https://arxiv.org/abs/1512.03385) - influential paper (introduced ResNet)\n",
        "- [YOLO: Real-Time Object Detection](https://pjreddie.com/darknet/yolo/) - an influential convolution based object detection system, focused on inference speed (for applications to e.g. self driving vehicles)\n",
        "- [R-CNN, Fast R-CNN, Faster R-CNN, YOLO](https://towardsdatascience.com/r-cnn-fast-r-cnn-faster-r-cnn-yolo-object-detection-algorithms-36d53571365e) - comparison of object detection systems\n",
        "- [Common Objects in Context](http://cocodataset.org/) - a large-scale object detection, segmentation, and captioning dataset\n",
        "- [Visual Genome](https://visualgenome.org/) - a dataset, a knowledge base, an ongoing effort to connect structured image concepts to language"
      ]
    }
  ]
}